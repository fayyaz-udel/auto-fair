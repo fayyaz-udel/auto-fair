{
 "cells": [
  {
   "cell_type": "code",
   "id": "initial_id",
   "metadata": {
    "collapsed": true,
    "ExecuteTime": {
     "end_time": "2024-10-06T17:37:41.158679Z",
     "start_time": "2024-10-06T17:37:39.423016Z"
    }
   },
   "source": [
    "import pandas as pd\n",
    "\n",
    "df = pd.read_excel('questionnaire.xlsx')\n",
    "df.replace('The FIRST vignette is more suitable (better and more rigorous for revealing biased behaviors).', 1, inplace=True)\n",
    "df.replace('The FIRST vignette is more suitable (better and more rigorous for revealing biased behaviors)',1, inplace=True)\n",
    "df.replace('The Second vignette is more suitable.', 2, inplace=True)\n",
    "df.replace('The Second vignette is more suitable',2, inplace=True)\n",
    "df.replace(\"I'm not sure.\", 3, inplace=True)\n",
    "df.replace(\"I'm not sure\", 3, inplace=True)\n",
    "q_columns = [col for col in df.columns if col.startswith('Q')]\n",
    "df_q = df[q_columns]\n",
    "df.drop(columns=q_columns, inplace=True)\n",
    "df = df.iloc[1:]\n",
    "df_q = df_q.iloc[1:]"
   ],
   "outputs": [],
   "execution_count": 1
  },
  {
   "metadata": {
    "ExecuteTime": {
     "end_time": "2024-10-06T17:37:41.174875Z",
     "start_time": "2024-10-06T17:37:41.158679Z"
    }
   },
   "cell_type": "code",
   "source": [
    "value_counts = pd.value_counts(df.values.ravel())\n",
    "print(value_counts)\n",
    "for i in value_counts:\n",
    "    print(i/value_counts.sum())"
   ],
   "id": "eacabf4564415529",
   "outputs": [
    {
     "name": "stdout",
     "output_type": "stream",
     "text": [
      "1    120\n",
      "2     68\n",
      "3     37\n",
      "Name: count, dtype: int64\n",
      "0.5333333333333333\n",
      "0.3022222222222222\n",
      "0.16444444444444445\n"
     ]
    },
    {
     "name": "stderr",
     "output_type": "stream",
     "text": [
      "C:\\Users\\hamed\\AppData\\Local\\Temp\\ipykernel_7628\\4091874047.py:1: FutureWarning: pandas.value_counts is deprecated and will be removed in a future version. Use pd.Series(obj).value_counts() instead.\n",
      "  value_counts = pd.value_counts(df.values.ravel())\n"
     ]
    }
   ],
   "execution_count": 2
  },
  {
   "metadata": {
    "ExecuteTime": {
     "end_time": "2024-10-06T17:37:41.196819Z",
     "start_time": "2024-10-06T17:37:41.174875Z"
    }
   },
   "cell_type": "code",
   "source": [
    "value_counts = pd.value_counts(df_q.values.ravel())\n",
    "print(value_counts)\n",
    "for i in value_counts:\n",
    "    print(i/value_counts.sum())"
   ],
   "id": "41fdbeb49420bb01",
   "outputs": [
    {
     "name": "stdout",
     "output_type": "stream",
     "text": [
      "1    112\n",
      "2     62\n",
      "3     46\n",
      "Name: count, dtype: int64\n",
      "0.509090909090909\n",
      "0.2818181818181818\n",
      "0.20909090909090908\n"
     ]
    },
    {
     "name": "stderr",
     "output_type": "stream",
     "text": [
      "C:\\Users\\hamed\\AppData\\Local\\Temp\\ipykernel_7628\\3468467819.py:1: FutureWarning: pandas.value_counts is deprecated and will be removed in a future version. Use pd.Series(obj).value_counts() instead.\n",
      "  value_counts = pd.value_counts(df_q.values.ravel())\n"
     ]
    }
   ],
   "execution_count": 3
  },
  {
   "metadata": {},
   "cell_type": "code",
   "source": "",
   "id": "62fc55a0e505e1ef",
   "outputs": [],
   "execution_count": null
  }
 ],
 "metadata": {
  "kernelspec": {
   "display_name": "Python 3",
   "language": "python",
   "name": "python3"
  },
  "language_info": {
   "codemirror_mode": {
    "name": "ipython",
    "version": 2
   },
   "file_extension": ".py",
   "mimetype": "text/x-python",
   "name": "python",
   "nbconvert_exporter": "python",
   "pygments_lexer": "ipython2",
   "version": "2.7.6"
  }
 },
 "nbformat": 4,
 "nbformat_minor": 5
}
